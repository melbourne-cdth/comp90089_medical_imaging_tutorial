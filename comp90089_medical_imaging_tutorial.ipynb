{
 "cells": [
  {
   "cell_type": "markdown",
   "metadata": {
    "editable": true,
    "id": "Um2pyaJP3b_N",
    "slideshow": {
     "slide_type": ""
    },
    "tags": []
   },
   "source": [
    "## Machine Learning Applications for Health (COMP90089)\n",
    "### Tutorial: Medical Imaging"
   ]
  },
  {
   "cell_type": "markdown",
   "metadata": {
    "editable": true,
    "id": "tB0mWgUM3iKe",
    "slideshow": {
     "slide_type": ""
    },
    "tags": []
   },
   "source": [
    "> ### Goal: Pre-processing fundamentals steps for Images before training a model.\n",
    "\n",
    "\n",
    "* Recap: What is a medical image? Any image that is **used for medical purposes**. \n",
    "\n",
    "\n",
    "This Tutorial uses de-identified CT image data, in DICOM format, provided by the Radiological Society of North America originally from a Kaggle competition [source](https://www.kaggle.com/c/rsna-intracranial-hemorrhage-detection/data) that attempt to predict Intracranial hemorrhage.\n",
    "\n",
    "\n",
    "* What is a [DICOM file](https://www.dicomstandard.org/)? Digital Imaging and Communications in Medicine — is the international standard for medical images and related information.\n",
    "\n",
    "###Read Tips:\n",
    "* Article Review: \"Recent advances and clinical applications of deep learning in medical image analysis\" [read here.](https://www.sciencedirect.com/science/article/abs/pii/S1361841522000913)\n",
    "* Comprehensive Tutorial for [preprocessing phase](https://www.kaggle.com/code/gzuidhof/full-preprocessing-tutorial/notebook)\n",
    "* Tutorial Medical Image [Python](https://theaisummer.com/medical-image-python/)\n",
    "* Understanding [CT windows, levels and densities](https://youtu.be/KZld-5W99cI)\n",
    "* Pydicom python [Library](https://github.com/pydicom/pydicom)\n",
    "* This Tutorial was based on this [source](https://towardsdatascience.com/medical-image-pre-processing-with-python-d07694852606)"
   ]
  },
  {
   "cell_type": "markdown",
   "metadata": {
    "id": "JEHRht-36bj2"
   },
   "source": [
    "\n",
    "\n",
    "---\n",
    "\n",
    "\n",
    "> The first part of this Jupyter file is to mount the drive in Colab (acess files from your local drive) set up the main **libraries** and upload the necessary file."
   ]
  },
  {
   "cell_type": "markdown",
   "metadata": {
    "id": "uO6eakGz0jzC"
   },
   "source": [
    "* Mount the drive in your google colab"
   ]
  },
  {
   "cell_type": "markdown",
   "metadata": {
    "id": "-DXzqLIME3wC"
   },
   "source": [
    "* Instal the pydicom library"
   ]
  },
  {
   "cell_type": "code",
   "execution_count": null,
   "metadata": {
    "colab": {
     "base_uri": "https://localhost:8080/"
    },
    "editable": true,
    "id": "N8cLyvgHL_Ud",
    "outputId": "201e108f-bc90-4b49-c14e-f13fd56ba2c8",
    "slideshow": {
     "slide_type": ""
    },
    "tags": []
   },
   "outputs": [],
   "source": [
    "!pip install pydicom\n",
    "!pip install opencv-python\n",
    "!pip install scikit-image\n",
    "!pip install requests"
   ]
  },
  {
   "cell_type": "markdown",
   "metadata": {
    "id": "pmouNBlYE8Y2"
   },
   "source": [
    "* Set up the main necessary libraries here"
   ]
  },
  {
   "cell_type": "code",
   "execution_count": null,
   "metadata": {
    "editable": true,
    "id": "bePv1NNRLz0n",
    "slideshow": {
     "slide_type": ""
    },
    "tags": []
   },
   "outputs": [],
   "source": [
    "import pydicom\n",
    "import numpy\n",
    "import numpy as np\n",
    "import cv2\n",
    "import os\n",
    "import math\n",
    "import pylab\n",
    "import matplotlib.pyplot as plt\n",
    "import matplotlib.image as mpimg\n",
    "import requests\n",
    "from scipy import ndimage\n",
    "from skimage import morphology\n",
    "from io import BytesIO"
   ]
  },
  {
   "cell_type": "markdown",
   "metadata": {},
   "source": [
    "### Reading DICOM images\n",
    "\n",
    "We will be using the pydicom package to read the DICOM image using the `dcmread` function. However, assuming you are working on Google Colab, dealing with local files can be tedious, or at least requires extra effort to set up. Therefore, we are going to write a wrapper that uses an IO buffer to read the file directly from GitHub."
   ]
  },
  {
   "cell_type": "code",
   "execution_count": null,
   "metadata": {},
   "outputs": [],
   "source": [
    "def mydcmread(dicom_url):\n",
    "    response = requests.get(dicom_url)\n",
    "    response.raise_for_status()  # Check that the request was successful\n",
    "    \n",
    "    # Create a file-like buffer from the downloaded content\n",
    "    dicom_buffer = BytesIO(response.content)\n",
    "    \n",
    "    # Use pydicom.dcmread() to read the DICOM file from the buffer\n",
    "    dicom_data = pydicom.dcmread(dicom_buffer)\n",
    "    return dicom_data\n",
    "    "
   ]
  },
  {
   "cell_type": "code",
   "execution_count": null,
   "metadata": {},
   "outputs": [],
   "source": [
    "file_path = 'https://github.com/melbourne-cdth/comp90089_medical_imaging_tutorial/raw/refs/heads/main/ID_000012eaf.dcm'\n"
   ]
  },
  {
   "cell_type": "code",
   "execution_count": null,
   "metadata": {
    "id": "JUw_m01FL0f1"
   },
   "outputs": [],
   "source": [
    "#Access the file you just uploaded\n",
    "\n",
    "medical_image = mydcmread(file_path)\n"
   ]
  },
  {
   "cell_type": "markdown",
   "metadata": {
    "id": "n1Bk3heLG1Eq"
   },
   "source": [
    "* What is given by a dicom file? These files contain a lot of metadata (such as the pixel size, so how long one pixel is in every dimension in the real world). This pixel size of the scan differs from scan to scan."
   ]
  },
  {
   "cell_type": "code",
   "execution_count": null,
   "metadata": {
    "colab": {
     "base_uri": "https://localhost:8080/"
    },
    "id": "vov48S4XG4_n",
    "outputId": "54f13f3e-b5d9-4450-c5ec-5848c082ac4e"
   },
   "outputs": [],
   "source": [
    "print(medical_image)"
   ]
  },
  {
   "cell_type": "markdown",
   "metadata": {
    "id": "APNGCGpgFeLn"
   },
   "source": [
    "* How is the image shape?"
   ]
  },
  {
   "cell_type": "code",
   "execution_count": null,
   "metadata": {
    "colab": {
     "base_uri": "https://localhost:8080/"
    },
    "id": "ioQgOSnFMjAw",
    "outputId": "3ad72bc1-9671-401e-df5a-d9b130c869d8"
   },
   "outputs": [],
   "source": [
    "image = medical_image.pixel_array\n",
    "print(image.shape)"
   ]
  },
  {
   "cell_type": "markdown",
   "metadata": {
    "id": "5mYcsNmqFiDO"
   },
   "source": [
    "* Check the minimum and maximum value"
   ]
  },
  {
   "cell_type": "code",
   "execution_count": null,
   "metadata": {
    "colab": {
     "base_uri": "https://localhost:8080/"
    },
    "id": "0tl-dYqnMjUl",
    "outputId": "6b1efb82-550b-47a9-ad89-f5f250d26e94"
   },
   "outputs": [],
   "source": [
    "print(image.min())\n",
    "print(image.max())"
   ]
  },
  {
   "cell_type": "markdown",
   "metadata": {
    "id": "m7w2WFabFjhf"
   },
   "source": [
    "* Some usefull functions while pre-processing image files. The unit of measurement in CT scans is the Hounsfield Unit (HU), which is a measure of radiodensity.\n",
    "\n",
    "* In general the returned values are not in this unit. You should adjust them. HU unit by multiplying with the rescale slope and adding the intercept (which are conveniently stored in the metadata of the scans!).\n",
    "\n",
    "* Some scanners have cylindrical scanning bounds, but the output image is square. The pixels that fall outside of these bounds get the fixed value -2000. The first step is setting these values to 0, which currently corresponds to air. \n"
   ]
  },
  {
   "cell_type": "code",
   "execution_count": null,
   "metadata": {
    "id": "zQZDcPVYMnXb"
   },
   "outputs": [],
   "source": [
    "# The Hounsfield Unit (HU) is a relative quantitative measurement of the intensity of radio waves.\n",
    "# More dense tissue, with greater X-ray beam absorption, has positive values and appears bright;\n",
    "# Less dense tissue, with less X-ray beam absorption, has negative values and appears dark.\n",
    " \n",
    "def transform_to_hu(medical_image, image):\n",
    "    intercept = medical_image.RescaleIntercept\n",
    "    slope = medical_image.RescaleSlope\n",
    "    hu_image = image * slope + intercept\n",
    "\n",
    "    return hu_image\n",
    "\n",
    "## If you want a specific zone of the image you can adjust the windowing of image.\n",
    "def window_image(image, window_center, window_width):\n",
    "    img_min = window_center - window_width // 2\n",
    "    img_max = window_center + window_width // 2\n",
    "    window_image = image.copy()\n",
    "    window_image[window_image < img_min] = img_min\n",
    "    window_image[window_image > img_max] = img_max\n",
    "    \n",
    "    return window_image\n",
    "\n",
    "\n",
    "\n"
   ]
  },
  {
   "cell_type": "code",
   "execution_count": null,
   "metadata": {
    "id": "NWGZG5Mdt_WU"
   },
   "outputs": [],
   "source": [
    "def remove_noise(file_path, display=False):\n",
    "    medical_image = mydcmread(file_path)\n",
    "    image = medical_image.pixel_array\n",
    "    \n",
    "    hu_image = transform_to_hu(medical_image, image)\n",
    "    brain_image = window_image(hu_image, 40, 80)\n",
    "    \n",
    "    segmentation = morphology.dilation(brain_image, np.ones((1, 1)))\n",
    "    labels, label_nb = ndimage.label(segmentation)\n",
    "    \n",
    "    label_count = np.bincount(labels.ravel().astype(np.int64))\n",
    "    label_count[0] = 0\n",
    "\n",
    "    mask = labels == label_count.argmax()\n",
    "    \n",
    "    # Improve the brain mask\n",
    "    mask = morphology.dilation(mask, np.ones((1, 1)))\n",
    "    mask = ndimage.morphology.binary_fill_holes(mask)\n",
    "    mask = morphology.dilation(mask, np.ones((3, 3)))\n",
    "    \n",
    "    masked_image = mask * brain_image\n",
    "\n",
    "    if display:\n",
    "        plt.figure(figsize=(15, 2.5))\n",
    "        plt.subplot(141)\n",
    "        plt.imshow(brain_image)\n",
    "        plt.title('Original Image')\n",
    "        plt.axis('off')\n",
    "        \n",
    "        plt.subplot(142)\n",
    "        plt.imshow(mask)\n",
    "        plt.title('Mask')\n",
    "        plt.axis('off')\n",
    "\n",
    "        plt.subplot(143)\n",
    "        plt.imshow(masked_image)\n",
    "        plt.title('Final Image')\n",
    "        plt.axis('off')\n",
    "    \n",
    "    return masked_image\n",
    "\n",
    "## Cropping image is needed to place the brain image at the center and get rid of unnecessary parts of image.\n",
    "\n",
    "def crop_image(image, display=False):\n",
    "    # Create a mask with the background pixels\n",
    "    mask = image == 0\n",
    "\n",
    "    # Find the brain area\n",
    "    coords = np.array(np.nonzero(~mask))\n",
    "    top_left = np.min(coords, axis=1)\n",
    "    bottom_right = np.max(coords, axis=1)\n",
    "    \n",
    "    # Remove the background\n",
    "    croped_image = image[top_left[0]:bottom_right[0],\n",
    "                top_left[1]:bottom_right[1]]\n",
    "    \n",
    "    return croped_image\n",
    "\n",
    "def add_pad(image, new_height=512, new_width=512):\n",
    "    height, width = image.shape\n",
    "\n",
    "    final_image = np.zeros((new_height, new_width))\n",
    "\n",
    "    pad_left = int((new_width - width) // 2)\n",
    "    pad_top = int((new_height - height) // 2)\n",
    "    \n",
    "    \n",
    "    # Replace the pixels with the image's pixels\n",
    "    final_image[pad_top:pad_top + height, pad_left:pad_left + width] = image\n",
    "    \n",
    "    return final_image"
   ]
  },
  {
   "cell_type": "markdown",
   "metadata": {
    "id": "PNv5K2mdFwIK"
   },
   "source": [
    "* Remove Noise function"
   ]
  },
  {
   "cell_type": "code",
   "execution_count": null,
   "metadata": {
    "colab": {
     "base_uri": "https://localhost:8080/",
     "height": 238
    },
    "id": "Axvl27oRNrBV",
    "outputId": "bc5ab9f1-e702-419f-a042-cd7c8f1ba495"
   },
   "outputs": [],
   "source": [
    "rnoise_2 = remove_noise(file_path, display=True)"
   ]
  },
  {
   "cell_type": "markdown",
   "metadata": {
    "id": "b8DzCGWPsmV9"
   },
   "source": [
    "* Tilt correction is the alignment of brain image in a proposed way. When tilt experienced by brain CT images, it may result in misalignment for medical applications. \n",
    "\n",
    "* It is important because when we train the model, it can see the whole data through the same alignment."
   ]
  },
  {
   "cell_type": "code",
   "execution_count": null,
   "metadata": {
    "colab": {
     "base_uri": "https://localhost:8080/",
     "height": 521
    },
    "id": "wiVzKjybOGe7",
    "outputId": "7f50ebb9-94c9-48ae-a8f6-87e00c76fb75"
   },
   "outputs": [],
   "source": [
    "img=numpy.uint8(rnoise_2)\n",
    "contours, hier =cv2.findContours (img, cv2.RETR_EXTERNAL, cv2.CHAIN_APPROX_SIMPLE)\n",
    "mask=numpy.zeros (img.shape, numpy.uint8)\n",
    "\n",
    "# find the biggest contour (c) by the area\n",
    "c = max(contours, key = cv2.contourArea)\n",
    "\n",
    "(x,y),(MA,ma),angle = cv2.fitEllipse(c)\n",
    "\n",
    "cv2.ellipse(img, ((x,y), (MA,ma), angle), color=(0, 255, 0), thickness=2)\n",
    "\n",
    "rmajor = max(MA,ma)/2\n",
    "if angle > 90:\n",
    "    angle -= 90\n",
    "else:\n",
    "    angle += 90\n",
    "xtop = x + math.cos(math.radians(angle))*rmajor\n",
    "ytop = y + math.sin(math.radians(angle))*rmajor\n",
    "xbot = x + math.cos(math.radians(angle+180))*rmajor\n",
    "ybot = y + math.sin(math.radians(angle+180))*rmajor\n",
    "cv2.line(img, (int(xtop),int(ytop)), (int(xbot),int(ybot)), (0, 255, 0), 3)\n",
    "\n",
    "pylab.imshow(img)\n",
    "pylab.show()\n",
    "\n",
    "M = cv2.getRotationMatrix2D((x, y), angle-90, 1)  #transformation matrix\n",
    "\n",
    "img = cv2.warpAffine(img, M, (img.shape[1], img.shape[0]), cv2.INTER_CUBIC)\n",
    "\n",
    "pylab.imshow(img)\n",
    "pylab.show()"
   ]
  },
  {
   "cell_type": "markdown",
   "metadata": {
    "id": "XCxDOxbVsvf2"
   },
   "source": [
    "* Cropped Image"
   ]
  },
  {
   "cell_type": "code",
   "execution_count": null,
   "metadata": {
    "colab": {
     "base_uri": "https://localhost:8080/",
     "height": 340
    },
    "id": "cxSdZQRoPBjd",
    "outputId": "a18124ba-116b-4ee7-8ca6-a007a407be18"
   },
   "outputs": [],
   "source": [
    "croppedImage = crop_image(img)\n",
    "plt.figure(figsize=(15, 5))\n",
    "plt.imshow(croppedImage)"
   ]
  },
  {
   "cell_type": "code",
   "execution_count": null,
   "metadata": {
    "colab": {
     "base_uri": "https://localhost:8080/"
    },
    "id": "-7dE9MJ0PF_R",
    "outputId": "a5a35c19-d09d-42d6-a282-1a496c09136e"
   },
   "outputs": [],
   "source": [
    "croppedImage.shape"
   ]
  },
  {
   "cell_type": "markdown",
   "metadata": {
    "id": "YUMtRwEZs4Tc"
   },
   "source": [
    "### Final Image with applied preprocessing steps: cleaned and centered."
   ]
  },
  {
   "cell_type": "code",
   "execution_count": null,
   "metadata": {
    "colab": {
     "base_uri": "https://localhost:8080/",
     "height": 905
    },
    "id": "pRMuEdt0PIgN",
    "outputId": "d2ada1df-54e1-4eb3-f7c4-4a29070c1cdf"
   },
   "outputs": [],
   "source": [
    "plt.figure(figsize=(15, 25))\n",
    "final_image = add_pad(croppedImage)\n",
    "plt.imshow(final_image)\n"
   ]
  },
  {
   "cell_type": "code",
   "execution_count": null,
   "metadata": {},
   "outputs": [],
   "source": []
  },
  {
   "cell_type": "code",
   "execution_count": null,
   "metadata": {},
   "outputs": [],
   "source": []
  }
 ],
 "metadata": {
  "colab": {
   "provenance": []
  },
  "kernelspec": {
   "display_name": "Python 3 (ipykernel)",
   "language": "python",
   "name": "python3"
  },
  "language_info": {
   "codemirror_mode": {
    "name": "ipython",
    "version": 3
   },
   "file_extension": ".py",
   "mimetype": "text/x-python",
   "name": "python",
   "nbconvert_exporter": "python",
   "pygments_lexer": "ipython3",
   "version": "3.11.9"
  }
 },
 "nbformat": 4,
 "nbformat_minor": 4
}
